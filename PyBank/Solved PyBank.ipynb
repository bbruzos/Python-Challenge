{
 "cells": [
  {
   "cell_type": "code",
   "execution_count": 13,
   "metadata": {},
   "outputs": [
    {
     "name": "stdout",
     "output_type": "stream",
     "text": [
      " Financial Analysis\n",
      " -------------------------\n",
      " Total Months: 86\n",
      " Total: $38382578\n",
      " Average Change: $-2315.1176470588234\n",
      " Greatest Increase in Profits: Feb-2012 ($1926159)\n",
      " Greatest Decrease in Profits: Sep-2013 ($-2196167)\n"
     ]
    }
   ],
   "source": [
    "#Import Dependencies\n",
    "import os\n",
    "import csv\n",
    "#File paths for import and output file\n",
    "pybank_csv= os.path.join(\"Resources\",\"budget_data.csv\")\n",
    "output_file= os.path.join(\"analysis\", \"budget_analysis.txt\")\n",
    "#Variables to store and keep track of values\n",
    "total_months= 0\n",
    "profit_losses= 0\n",
    "revenue_change= 0\n",
    "total_revenue_change = 0\n",
    "prev_month = \"\"\n",
    "prev_revenue = 0\n",
    "greatest_increase= 0\n",
    "greatest_decrease= 0\n",
    "    \n",
    "#Open and read csvfile\n",
    "with open(pybank_csv, 'r') as csvfile: \n",
    "    csvReader=csv.reader(csvfile, delimiter= ',')\n",
    "    \n",
    "    header= next(csvReader)\n",
    "  \n",
    "    for row in csvReader: \n",
    "        total_months += 1\n",
    "        profit_losses += int(row[1])\n",
    "    \n",
    "        revenue_change= int(row[1]) - prev_revenue\n",
    "        prev_revenue= int(row[1]) \n",
    "        \n",
    "        if total_months > 1: \n",
    "            total_revenue_change += revenue_change\n",
    "            \n",
    "        if (revenue_change > greatest_increase):\n",
    "            greatest_increase = revenue_change\n",
    "            greatest_increase_month = row[0]\n",
    "       \n",
    "        if (revenue_change < greatest_decrease):\n",
    "            greatest_decrease = revenue_change\n",
    "            greatest_decrease_month = row[0]\n",
    "    \n",
    "    average_change= total_revenue_change/(total_months-1)\n",
    "    \n",
    "with open(output_file, 'w') as txtfile:        \n",
    "        \n",
    "    print(\" Financial Analysis\")\n",
    "    txtfile.write(\"\\n Financial Analysis\\n\")\n",
    "    print(\" -------------------------\")\n",
    "    txtfile.write(\" -------------------------\\n\")\n",
    "    print(f' Total Months: {total_months}')\n",
    "    txtfile.write(f' Total Months: {total_months}\\n')\n",
    "    print(f' Total: ${profit_losses}')\n",
    "    txtfile.write(f' Total: ${profit_losses}\\n')\n",
    "    print(f' Average Change: ${average_change}')\n",
    "    txtfile.write(f' Average Change: ${average_change}\\n')\n",
    "    print(f' Greatest Increase in Profits: {greatest_increase_month} (${greatest_increase})')\n",
    "    txtfile.write(f' Greatest Increase in Profits: {greatest_increase_month} (${greatest_increase})\\n')\n",
    "    print(f' Greatest Decrease in Profits: {greatest_decrease_month} (${greatest_decrease})')\n",
    "    txtfile.write(f' Greatest Decrease in Profits: {greatest_decrease_month} (${greatest_decrease})\\n')\n",
    " \n",
    "            "
   ]
  },
  {
   "cell_type": "code",
   "execution_count": 9,
   "metadata": {},
   "outputs": [
    {
     "ename": "IndentationError",
     "evalue": "unexpected indent (<ipython-input-9-8fc893ff0222>, line 2)",
     "output_type": "error",
     "traceback": [
      "\u001b[0;36m  File \u001b[0;32m\"<ipython-input-9-8fc893ff0222>\"\u001b[0;36m, line \u001b[0;32m2\u001b[0m\n\u001b[0;31m    total_value = 0\u001b[0m\n\u001b[0m    ^\u001b[0m\n\u001b[0;31mIndentationError\u001b[0m\u001b[0;31m:\u001b[0m unexpected indent\n"
     ]
    }
   ],
   "source": []
  },
  {
   "cell_type": "code",
   "execution_count": null,
   "metadata": {},
   "outputs": [],
   "source": []
  },
  {
   "cell_type": "code",
   "execution_count": null,
   "metadata": {},
   "outputs": [],
   "source": []
  },
  {
   "cell_type": "code",
   "execution_count": null,
   "metadata": {},
   "outputs": [],
   "source": []
  }
 ],
 "metadata": {
  "kernelspec": {
   "display_name": "Python 3",
   "language": "python",
   "name": "python3"
  },
  "language_info": {
   "codemirror_mode": {
    "name": "ipython",
    "version": 3
   },
   "file_extension": ".py",
   "mimetype": "text/x-python",
   "name": "python",
   "nbconvert_exporter": "python",
   "pygments_lexer": "ipython3",
   "version": "3.7.6"
  }
 },
 "nbformat": 4,
 "nbformat_minor": 4
}
